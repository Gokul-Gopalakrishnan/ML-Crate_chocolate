{
 "cells": [
  {
   "cell_type": "code",
   "execution_count": 1,
   "id": "de9ac563",
   "metadata": {
    "execution": {
     "iopub.execute_input": "2022-08-10T09:50:16.996473Z",
     "iopub.status.busy": "2022-08-10T09:50:16.995833Z",
     "iopub.status.idle": "2022-08-10T09:50:23.653069Z",
     "shell.execute_reply": "2022-08-10T09:50:23.651876Z"
    },
    "papermill": {
     "duration": 6.667024,
     "end_time": "2022-08-10T09:50:23.655954",
     "exception": false,
     "start_time": "2022-08-10T09:50:16.988930",
     "status": "completed"
    },
    "tags": []
   },
   "outputs": [],
   "source": [
    "import cv2\n",
    "import pandas as pd\n",
    "import numpy as np\n",
    "import os\n",
    "import keras\n",
    "from keras.models import Sequential\n",
    "from keras.layers import Dense, Conv2D , MaxPool2D , Flatten , Dropout \n",
    "from sklearn.model_selection import train_test_split"
   ]
  },
  {
   "cell_type": "code",
   "execution_count": 2,
   "id": "6c33ab40",
   "metadata": {
    "execution": {
     "iopub.execute_input": "2022-08-10T09:50:23.666302Z",
     "iopub.status.busy": "2022-08-10T09:50:23.665322Z",
     "iopub.status.idle": "2022-08-10T09:50:23.671712Z",
     "shell.execute_reply": "2022-08-10T09:50:23.670673Z"
    },
    "papermill": {
     "duration": 0.013506,
     "end_time": "2022-08-10T09:50:23.673832",
     "exception": false,
     "start_time": "2022-08-10T09:50:23.660326",
     "status": "completed"
    },
    "tags": []
   },
   "outputs": [],
   "source": [
    "from PIL import Image\n",
    "import matplotlib.pyplot as plt\n",
    "from sklearn.model_selection import train_test_split"
   ]
  },
  {
   "cell_type": "code",
   "execution_count": 3,
   "id": "45d65f1a",
   "metadata": {
    "execution": {
     "iopub.execute_input": "2022-08-10T09:50:23.682803Z",
     "iopub.status.busy": "2022-08-10T09:50:23.682457Z",
     "iopub.status.idle": "2022-08-10T09:50:23.712019Z",
     "shell.execute_reply": "2022-08-10T09:50:23.711219Z"
    },
    "papermill": {
     "duration": 0.036969,
     "end_time": "2022-08-10T09:50:23.714683",
     "exception": false,
     "start_time": "2022-08-10T09:50:23.677714",
     "status": "completed"
    },
    "tags": []
   },
   "outputs": [],
   "source": [
    "dark_source_path = \"C:/Users/Gokul/source/ROSP/Chocolate Classification/Dark Chocolate\"\n",
    "white_source_path = \"C:/Users/Gokul/source/ROSP/Chocolate Classification/White Chocolate\"\n",
    "dark_chocolates=os.listdir(dark_source_path)\n",
    "white_chocolates=os.listdir(white_source_path)"
   ]
  },
  {
   "cell_type": "code",
   "execution_count": 4,
   "id": "52addec8",
   "metadata": {
    "execution": {
     "iopub.execute_input": "2022-08-10T09:50:23.724364Z",
     "iopub.status.busy": "2022-08-10T09:50:23.723780Z",
     "iopub.status.idle": "2022-08-10T09:50:23.728074Z",
     "shell.execute_reply": "2022-08-10T09:50:23.727364Z"
    },
    "papermill": {
     "duration": 0.011424,
     "end_time": "2022-08-10T09:50:23.730220",
     "exception": false,
     "start_time": "2022-08-10T09:50:23.718796",
     "status": "completed"
    },
    "tags": []
   },
   "outputs": [],
   "source": [
    "chocolates=list(map('C:/Users/Gokul/source/ROSP/Chocolate Classification/Dark Chocolate/{}'.format,  dark_chocolates))\n",
    "white_chocolates=list(map('C:/Users/Gokul/source/ROSP/Chocolate Classification/White Chocolate/{}'.format,  white_chocolates))\n"
   ]
  },
  {
   "cell_type": "code",
   "execution_count": 7,
   "id": "2ca9f847",
   "metadata": {
    "execution": {
     "iopub.execute_input": "2022-08-10T09:50:23.739989Z",
     "iopub.status.busy": "2022-08-10T09:50:23.739290Z",
     "iopub.status.idle": "2022-08-10T09:50:23.744290Z",
     "shell.execute_reply": "2022-08-10T09:50:23.743512Z"
    },
    "papermill": {
     "duration": 0.012293,
     "end_time": "2022-08-10T09:50:23.746305",
     "exception": false,
     "start_time": "2022-08-10T09:50:23.734012",
     "status": "completed"
    },
    "tags": []
   },
   "outputs": [],
   "source": [
    "labels=np.array(np.ones(69))\n",
    "labels2=np.array(np.zeros(68))\n",
    "labels=np.concatenate((labels,labels2),axis=0)\n",
    "chocolates.extend(white_chocolates)\n",
    "\n"
   ]
  },
  {
   "cell_type": "code",
   "execution_count": 8,
   "id": "1c6b1635",
   "metadata": {
    "execution": {
     "iopub.execute_input": "2022-08-10T09:50:23.756045Z",
     "iopub.status.busy": "2022-08-10T09:50:23.755391Z",
     "iopub.status.idle": "2022-08-10T09:50:23.765157Z",
     "shell.execute_reply": "2022-08-10T09:50:23.763938Z"
    },
    "papermill": {
     "duration": 0.017525,
     "end_time": "2022-08-10T09:50:23.767773",
     "exception": false,
     "start_time": "2022-08-10T09:50:23.750248",
     "status": "completed"
    },
    "tags": []
   },
   "outputs": [],
   "source": [
    "data=pd.DataFrame(list(zip(chocolates, labels)),columns =['Chocolates', 'type'])\n"
   ]
  },
  {
   "cell_type": "code",
   "execution_count": 9,
   "id": "588d4749",
   "metadata": {
    "execution": {
     "iopub.execute_input": "2022-08-10T09:50:23.777563Z",
     "iopub.status.busy": "2022-08-10T09:50:23.777006Z",
     "iopub.status.idle": "2022-08-10T09:50:23.792550Z",
     "shell.execute_reply": "2022-08-10T09:50:23.791261Z"
    },
    "papermill": {
     "duration": 0.023515,
     "end_time": "2022-08-10T09:50:23.795234",
     "exception": false,
     "start_time": "2022-08-10T09:50:23.771719",
     "status": "completed"
    },
    "tags": []
   },
   "outputs": [],
   "source": [
    "data=data.sample(frac=1).reset_index()\n"
   ]
  },
  {
   "cell_type": "code",
   "execution_count": 10,
   "id": "eed4445e",
   "metadata": {
    "execution": {
     "iopub.execute_input": "2022-08-10T09:50:23.804943Z",
     "iopub.status.busy": "2022-08-10T09:50:23.804157Z",
     "iopub.status.idle": "2022-08-10T09:50:31.874538Z",
     "shell.execute_reply": "2022-08-10T09:50:31.873397Z"
    },
    "papermill": {
     "duration": 8.078094,
     "end_time": "2022-08-10T09:50:31.877278",
     "exception": false,
     "start_time": "2022-08-10T09:50:23.799184",
     "status": "completed"
    },
    "tags": []
   },
   "outputs": [],
   "source": [
    "chocolates = np.array([np.array(Image.open(img).convert('RGB').resize((64, 64), Image.ANTIALIAS)) for img in data['Chocolates']])\n",
    "labels=np.array(np.array(data['type']))\n"
   ]
  },
  {
   "cell_type": "code",
   "execution_count": 11,
   "id": "9cb6f2f5",
   "metadata": {
    "execution": {
     "iopub.execute_input": "2022-08-10T09:50:31.887608Z",
     "iopub.status.busy": "2022-08-10T09:50:31.887226Z",
     "iopub.status.idle": "2022-08-10T09:50:32.073679Z",
     "shell.execute_reply": "2022-08-10T09:50:32.072454Z"
    },
    "papermill": {
     "duration": 0.194484,
     "end_time": "2022-08-10T09:50:32.076084",
     "exception": false,
     "start_time": "2022-08-10T09:50:31.881600",
     "status": "completed"
    },
    "tags": []
   },
   "outputs": [],
   "source": [
    "model = Sequential()\n",
    "model.add(Conv2D(64,(3,3),padding=\"same\", activation=\"relu\", input_shape=(64,64,3)))\n",
    "model.add(MaxPool2D())\n",
    "\n",
    "model.add(Conv2D(64, (3,3), padding=\"same\", activation=\"relu\"))\n",
    "model.add(MaxPool2D())\n",
    "model.add(Dropout(0.2))\n",
    "\n",
    "model.add(Flatten())\n",
    "model.add(Dense(128,activation=\"relu\"))\n",
    "model.add(Dense(1, activation=\"sigmoid\"))\n",
    "\n"
   ]
  },
  {
   "cell_type": "code",
   "execution_count": 12,
   "id": "bf4a67f1",
   "metadata": {
    "execution": {
     "iopub.execute_input": "2022-08-10T09:50:32.086687Z",
     "iopub.status.busy": "2022-08-10T09:50:32.086029Z",
     "iopub.status.idle": "2022-08-10T09:50:32.100760Z",
     "shell.execute_reply": "2022-08-10T09:50:32.099822Z"
    },
    "papermill": {
     "duration": 0.022741,
     "end_time": "2022-08-10T09:50:32.103151",
     "exception": false,
     "start_time": "2022-08-10T09:50:32.080410",
     "status": "completed"
    },
    "tags": []
   },
   "outputs": [],
   "source": [
    "early_stopping=keras.callbacks.EarlyStopping(\n",
    "    min_delta=0.001,\n",
    "    patience=10,\n",
    "    restore_best_weights=True\n",
    ")\n",
    "\n",
    "model.compile(\n",
    "   optimizer='adam',\n",
    "    loss=\"binary_crossentropy\",\n",
    "     metrics = ['accuracy']\n",
    ")"
   ]
  },
  {
   "cell_type": "code",
   "execution_count": 13,
   "id": "813149c9",
   "metadata": {
    "execution": {
     "iopub.execute_input": "2022-08-10T09:50:32.113404Z",
     "iopub.status.busy": "2022-08-10T09:50:32.112699Z",
     "iopub.status.idle": "2022-08-10T09:50:32.119572Z",
     "shell.execute_reply": "2022-08-10T09:50:32.118578Z"
    },
    "papermill": {
     "duration": 0.014502,
     "end_time": "2022-08-10T09:50:32.121929",
     "exception": false,
     "start_time": "2022-08-10T09:50:32.107427",
     "status": "completed"
    },
    "tags": []
   },
   "outputs": [],
   "source": [
    "X_train,X_test,Y_train,Y_test=train_test_split(chocolates,labels,test_size=0.2)"
   ]
  },
  {
   "cell_type": "code",
   "execution_count": 14,
   "id": "c0e6952d",
   "metadata": {
    "execution": {
     "iopub.execute_input": "2022-08-10T09:50:32.131962Z",
     "iopub.status.busy": "2022-08-10T09:50:32.131579Z",
     "iopub.status.idle": "2022-08-10T09:50:41.807471Z",
     "shell.execute_reply": "2022-08-10T09:50:41.806354Z"
    },
    "papermill": {
     "duration": 9.68416,
     "end_time": "2022-08-10T09:50:41.810417",
     "exception": false,
     "start_time": "2022-08-10T09:50:32.126257",
     "status": "completed"
    },
    "scrolled": false,
    "tags": []
   },
   "outputs": [
    {
     "name": "stdout",
     "output_type": "stream",
     "text": [
      "Epoch 1/100\n",
      "4/4 [==============================] - 1s 196ms/step - loss: 315.5544 - accuracy: 0.4404 - val_loss: 33.6383 - val_accuracy: 0.2857\n",
      "Epoch 2/100\n",
      "4/4 [==============================] - 1s 143ms/step - loss: 19.8045 - accuracy: 0.5505 - val_loss: 10.2303 - val_accuracy: 0.2857\n",
      "Epoch 3/100\n",
      "4/4 [==============================] - 1s 151ms/step - loss: 5.1642 - accuracy: 0.4220 - val_loss: 2.6940 - val_accuracy: 0.7143\n",
      "Epoch 4/100\n",
      "4/4 [==============================] - 1s 148ms/step - loss: 3.7853 - accuracy: 0.4495 - val_loss: 1.0660 - val_accuracy: 0.3214\n",
      "Epoch 5/100\n",
      "4/4 [==============================] - 1s 150ms/step - loss: 1.1603 - accuracy: 0.5596 - val_loss: 0.7517 - val_accuracy: 0.2857\n",
      "Epoch 6/100\n",
      "4/4 [==============================] - 1s 152ms/step - loss: 0.7024 - accuracy: 0.5596 - val_loss: 0.6956 - val_accuracy: 0.3214\n",
      "Epoch 7/100\n",
      "4/4 [==============================] - 1s 202ms/step - loss: 0.7301 - accuracy: 0.5872 - val_loss: 0.7355 - val_accuracy: 0.2857\n",
      "Epoch 8/100\n",
      "4/4 [==============================] - 1s 157ms/step - loss: 0.6212 - accuracy: 0.5505 - val_loss: 0.6993 - val_accuracy: 0.2857\n",
      "Epoch 9/100\n",
      "4/4 [==============================] - 1s 158ms/step - loss: 0.5905 - accuracy: 0.5505 - val_loss: 0.7310 - val_accuracy: 0.3571\n",
      "Epoch 10/100\n",
      "4/4 [==============================] - 1s 199ms/step - loss: 0.5324 - accuracy: 0.6330 - val_loss: 0.6272 - val_accuracy: 0.7857\n",
      "Epoch 11/100\n",
      "4/4 [==============================] - 1s 164ms/step - loss: 0.4839 - accuracy: 0.7706 - val_loss: 0.6551 - val_accuracy: 0.5000\n",
      "Epoch 12/100\n",
      "4/4 [==============================] - 1s 168ms/step - loss: 0.4067 - accuracy: 0.8165 - val_loss: 0.3171 - val_accuracy: 0.9286\n",
      "Epoch 13/100\n",
      "4/4 [==============================] - 1s 158ms/step - loss: 0.3725 - accuracy: 0.7798 - val_loss: 0.3922 - val_accuracy: 0.7857\n",
      "Epoch 14/100\n",
      "4/4 [==============================] - 1s 146ms/step - loss: 0.3705 - accuracy: 0.8073 - val_loss: 0.3116 - val_accuracy: 0.8571\n",
      "Epoch 15/100\n",
      "4/4 [==============================] - 1s 141ms/step - loss: 0.2125 - accuracy: 0.9083 - val_loss: 0.9107 - val_accuracy: 0.6429\n",
      "Epoch 16/100\n",
      "4/4 [==============================] - 1s 148ms/step - loss: 0.3027 - accuracy: 0.9174 - val_loss: 0.1688 - val_accuracy: 0.9286\n",
      "Epoch 17/100\n",
      "4/4 [==============================] - 1s 156ms/step - loss: 0.0904 - accuracy: 0.9725 - val_loss: 0.2936 - val_accuracy: 0.8929\n",
      "Epoch 18/100\n",
      "4/4 [==============================] - 1s 143ms/step - loss: 0.1247 - accuracy: 0.9633 - val_loss: 0.4253 - val_accuracy: 0.8214\n",
      "Epoch 19/100\n",
      "4/4 [==============================] - 1s 175ms/step - loss: 0.0931 - accuracy: 0.9817 - val_loss: 0.2533 - val_accuracy: 0.9286\n",
      "Epoch 20/100\n",
      "4/4 [==============================] - 1s 145ms/step - loss: 0.0677 - accuracy: 1.0000 - val_loss: 0.1741 - val_accuracy: 0.8929\n",
      "Epoch 21/100\n",
      "4/4 [==============================] - 1s 143ms/step - loss: 0.0363 - accuracy: 1.0000 - val_loss: 0.2269 - val_accuracy: 0.8571\n",
      "Epoch 22/100\n",
      "4/4 [==============================] - 1s 141ms/step - loss: 0.0279 - accuracy: 0.9908 - val_loss: 0.1923 - val_accuracy: 0.8929\n",
      "Epoch 23/100\n",
      "4/4 [==============================] - 1s 182ms/step - loss: 0.0075 - accuracy: 1.0000 - val_loss: 0.2017 - val_accuracy: 0.8929\n",
      "Epoch 24/100\n",
      "4/4 [==============================] - 1s 142ms/step - loss: 0.0086 - accuracy: 1.0000 - val_loss: 0.1899 - val_accuracy: 0.8929\n",
      "Epoch 25/100\n",
      "4/4 [==============================] - 1s 161ms/step - loss: 0.0020 - accuracy: 1.0000 - val_loss: 0.1422 - val_accuracy: 0.9286\n",
      "Epoch 26/100\n",
      "4/4 [==============================] - 1s 178ms/step - loss: 0.0063 - accuracy: 1.0000 - val_loss: 0.1206 - val_accuracy: 0.9286\n",
      "Epoch 27/100\n",
      "4/4 [==============================] - 1s 142ms/step - loss: 0.0050 - accuracy: 1.0000 - val_loss: 0.1026 - val_accuracy: 0.9286\n",
      "Epoch 28/100\n",
      "4/4 [==============================] - 1s 140ms/step - loss: 0.0011 - accuracy: 1.0000 - val_loss: 0.2089 - val_accuracy: 0.9643\n",
      "Epoch 29/100\n",
      "4/4 [==============================] - 1s 166ms/step - loss: 0.0131 - accuracy: 0.9908 - val_loss: 0.3448 - val_accuracy: 0.8929\n",
      "Epoch 30/100\n",
      "4/4 [==============================] - 1s 149ms/step - loss: 0.0040 - accuracy: 1.0000 - val_loss: 0.1550 - val_accuracy: 0.9286\n",
      "Epoch 31/100\n",
      "4/4 [==============================] - 1s 221ms/step - loss: 6.2566e-04 - accuracy: 1.0000 - val_loss: 0.3054 - val_accuracy: 0.9286\n",
      "Epoch 32/100\n",
      "4/4 [==============================] - 1s 151ms/step - loss: 0.0151 - accuracy: 0.9908 - val_loss: 0.2087 - val_accuracy: 0.9643\n",
      "Epoch 33/100\n",
      "4/4 [==============================] - 1s 147ms/step - loss: 0.0024 - accuracy: 1.0000 - val_loss: 0.5032 - val_accuracy: 0.8571\n",
      "Epoch 34/100\n",
      "4/4 [==============================] - 1s 154ms/step - loss: 0.0091 - accuracy: 1.0000 - val_loss: 0.1534 - val_accuracy: 0.9286\n",
      "Epoch 35/100\n",
      "4/4 [==============================] - 1s 143ms/step - loss: 3.3267e-04 - accuracy: 1.0000 - val_loss: 0.3034 - val_accuracy: 0.8929\n",
      "Epoch 36/100\n",
      "4/4 [==============================] - 1s 215ms/step - loss: 0.0040 - accuracy: 1.0000 - val_loss: 0.2579 - val_accuracy: 0.9286\n",
      "Epoch 37/100\n",
      "4/4 [==============================] - 1s 169ms/step - loss: 8.6619e-04 - accuracy: 1.0000 - val_loss: 0.1094 - val_accuracy: 0.9286\n"
     ]
    }
   ],
   "source": [
    "history = model.fit(X_train,Y_train,epochs = 100 , validation_data = (X_test, Y_test),callbacks=[early_stopping])"
   ]
  },
  {
   "cell_type": "code",
   "execution_count": 15,
   "id": "66b963a3",
   "metadata": {
    "execution": {
     "iopub.execute_input": "2022-08-10T09:50:41.835505Z",
     "iopub.status.busy": "2022-08-10T09:50:41.834453Z",
     "iopub.status.idle": "2022-08-10T09:50:41.933562Z",
     "shell.execute_reply": "2022-08-10T09:50:41.932380Z"
    },
    "papermill": {
     "duration": 0.113832,
     "end_time": "2022-08-10T09:50:41.935805",
     "exception": false,
     "start_time": "2022-08-10T09:50:41.821973",
     "status": "completed"
    },
    "tags": []
   },
   "outputs": [
    {
     "name": "stdout",
     "output_type": "stream",
     "text": [
      "1/1 [==============================] - 0s 39ms/step - loss: 0.1026 - accuracy: 0.9286\n"
     ]
    },
    {
     "data": {
      "text/plain": [
       "[0.10262388736009598, 0.9285714030265808]"
      ]
     },
     "execution_count": 15,
     "metadata": {},
     "output_type": "execute_result"
    }
   ],
   "source": [
    "model.evaluate(X_test,Y_test)"
   ]
  },
  {
   "cell_type": "code",
   "execution_count": 16,
   "id": "f6060cc0",
   "metadata": {
    "papermill": {
     "duration": 0.011207,
     "end_time": "2022-08-10T09:50:41.960412",
     "exception": false,
     "start_time": "2022-08-10T09:50:41.949205",
     "status": "completed"
    },
    "tags": []
   },
   "outputs": [],
   "source": [
    "model.save(\"my_nn_model.h5\")"
   ]
  },
  {
   "cell_type": "code",
   "execution_count": null,
   "id": "70e174f1",
   "metadata": {},
   "outputs": [],
   "source": []
  }
 ],
 "metadata": {
  "kernelspec": {
   "display_name": "Python 3 (ipykernel)",
   "language": "python",
   "name": "python3"
  },
  "language_info": {
   "codemirror_mode": {
    "name": "ipython",
    "version": 3
   },
   "file_extension": ".py",
   "mimetype": "text/x-python",
   "name": "python",
   "nbconvert_exporter": "python",
   "pygments_lexer": "ipython3",
   "version": "3.9.7"
  },
  "papermill": {
   "default_parameters": {},
   "duration": 37.126931,
   "end_time": "2022-08-10T09:50:45.477813",
   "environment_variables": {},
   "exception": null,
   "input_path": "__notebook__.ipynb",
   "output_path": "__notebook__.ipynb",
   "parameters": {},
   "start_time": "2022-08-10T09:50:08.350882",
   "version": "2.3.4"
  }
 },
 "nbformat": 4,
 "nbformat_minor": 5
}
